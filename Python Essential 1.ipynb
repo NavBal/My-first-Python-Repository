{
 "cells": [
  {
   "cell_type": "markdown",
   "metadata": {},
   "source": [
    "# Python Programming: Essentials 1\n",
    "\n",
    "#### Variables are used to store values. \n",
    "\n",
    "#### A string is a series of characters, surrounded by single or double quotes. "
   ]
  },
  {
   "cell_type": "markdown",
   "metadata": {},
   "source": [
    "Hello world"
   ]
  },
  {
   "cell_type": "code",
   "execution_count": null,
   "metadata": {},
   "outputs": [],
   "source": [
    "print(\"Hello Mary!\") #print() is your first function- press cntrl enter - press cntrl enter to run and see the result"
   ]
  },
  {
   "cell_type": "markdown",
   "metadata": {},
   "source": [
    "Hello world via a variable"
   ]
  },
  {
   "cell_type": "code",
   "execution_count": null,
   "metadata": {},
   "outputs": [],
   "source": [
    "message = \"Hello Fabien Guert!\" #assigning a string to a variable\n",
    "print(message) # message is a variable - Ctrl enter for result "
   ]
  },
  {
   "cell_type": "markdown",
   "metadata": {},
   "source": [
    "\n",
    "\n",
    "Concatenation (combining strings) "
   ]
  },
  {
   "cell_type": "code",
   "execution_count": null,
   "metadata": {},
   "outputs": [],
   "source": [
    "first_name = 'Navroop' \n",
    "last_name = 'Bal' \n",
    "full_name = first_name + ' ' + last_name \n",
    "print(full_name)\n",
    "# little funny one : multiple words\n",
    "print(full_name * 5)\n"
   ]
  },
  {
   "cell_type": "code",
   "execution_count": null,
   "metadata": {},
   "outputs": [],
   "source": [
    "print(first_name , last_name ) # comma adds a space automaticaly"
   ]
  },
  {
   "cell_type": "markdown",
   "metadata": {},
   "source": [
    "\n",
    "\n",
    "## List\n",
    "\n",
    "A list stores a series of items in a particular order. \n",
    "\n",
    "You access items using an index, or within a loop. \n",
    "Make a list "
   ]
  },
  {
   "cell_type": "code",
   "execution_count": null,
   "metadata": {},
   "outputs": [],
   "source": [
    "bicycles = ['mountain', 'road', 'race', 'penny-farthing'] # defining a list separated by commas\n",
    "\n",
    "print(bicycles) # its just an object with few charateristics\n"
   ]
  },
  {
   "cell_type": "code",
   "execution_count": null,
   "metadata": {},
   "outputs": [],
   "source": [
    "addon = ['raleigh','brompton'] # to add a list to an existing list\n",
    "bicycles =bicycles + addon # added a list to a list. always put space near the operators\n",
    "print(bicycles)\n"
   ]
  },
  {
   "cell_type": "markdown",
   "metadata": {},
   "source": [
    "Get the first item in the list"
   ]
  },
  {
   "cell_type": "code",
   "execution_count": null,
   "metadata": {},
   "outputs": [],
   "source": [
    "first_bike = bicycles[0] # index starts from 0 so if need to see 'mountain'\n",
    "print (first_bike)"
   ]
  },
  {
   "cell_type": "markdown",
   "metadata": {},
   "source": [
    "Get the last item in the list"
   ]
  },
  {
   "cell_type": "code",
   "execution_count": null,
   "metadata": {},
   "outputs": [],
   "source": [
    "last_bike = bicycles[-1] # last element can be refered as -1\n",
    "print(last_bike)\n"
   ]
  },
  {
   "cell_type": "code",
   "execution_count": null,
   "metadata": {},
   "outputs": [],
   "source": [
    "# write code to print the penultimate (i.e. one before last) bike\n",
    "Second_Last_Bike = bicycles[4] # or can be bicyles[4]\n",
    "print(Second_Last_Bike) # can split the cell to write the next code - edit -> split cell \n",
    "# or add a new cell bellow -> go to insert -> cell bellow or press alt + enter"
   ]
  },
  {
   "cell_type": "code",
   "execution_count": null,
   "metadata": {},
   "outputs": [],
   "source": [
    "One_b4_Last = bicycles[-2]\n",
    "print(One_b4_Last)"
   ]
  },
  {
   "cell_type": "code",
   "execution_count": null,
   "metadata": {},
   "outputs": [],
   "source": [
    "bike = bicycles[len(bicycles) - 2] # function calculates the length of the list where it starts from 1 instead of a 0 \n",
    "print(bike)\n",
    "print(len('sgdhdsjy')) # calculates the length of the string in the commas"
   ]
  },
  {
   "cell_type": "code",
   "execution_count": null,
   "metadata": {},
   "outputs": [],
   "source": []
  },
  {
   "cell_type": "markdown",
   "metadata": {},
   "source": [
    "# Working with Strings\n",
    "\n",
    "## split() function"
   ]
  },
  {
   "cell_type": "code",
   "execution_count": null,
   "metadata": {},
   "outputs": [],
   "source": [
    "# the function split() cuts a string at specified character position then store the result in a list\n",
    "\n",
    "sentence = 'UK house prices grew two per cent year on year for September, according to new figures released today, but London house prices declined.'\n",
    "\n",
    "words = sentence.split(' ') # result is in a list thats why shows in the brackets\n",
    "print(words)"
   ]
  },
  {
   "cell_type": "code",
   "execution_count": null,
   "metadata": {},
   "outputs": [],
   "source": [
    "url = 'https://python.com/linear-regression/'\n",
    "element = url.split('/')\n",
    "print(element)\n"
   ]
  },
  {
   "cell_type": "code",
   "execution_count": null,
   "metadata": {},
   "outputs": [],
   "source": [
    "# adapt to get the first and second part from an email address\n",
    "email = \"trainingsupport@pairview.co.uk\"\n",
    "\n",
    "########## your code below#############\n",
    "parts = email.split('@') # turn into a string\n",
    "print(parts)\n",
    "# now extract the part of the string you need by naming a variable which calls for that part in the string\n",
    "individual = parts[0] # call for the first part\n",
    "company = parts[-1] # calls for the last part in the string\n",
    "print(individual, company)\n"
   ]
  },
  {
   "cell_type": "code",
   "execution_count": null,
   "metadata": {},
   "outputs": [],
   "source": [
    "# write code to get the first name and the last name from the full name that can include 1 or many middle names\n",
    "\n",
    "################your code################\n",
    "myname = \"Elizabeth Alexandra Mary Windsor\"\n",
    "\n",
    "parts = myname.split(' ')\n",
    "print(parts)\n",
    "\n",
    "# then extract from the string\n",
    "\n",
    "First_Name = parts[0]\n",
    "Last_Name = parts[-1]\n",
    "print(First_Name, Last_Name)"
   ]
  },
  {
   "cell_type": "markdown",
   "metadata": {},
   "source": [
    "## join() function"
   ]
  },
  {
   "cell_type": "code",
   "execution_count": null,
   "metadata": {},
   "outputs": [],
   "source": [
    "# the function join() take a list of strings and concatenate its elements separated by the character passed to it\n",
    "separator =' ' # use any kind of separators like / . _ etc, to join like company name to create eg email address\n",
    "sentence = separator.join(words) # previously useed in the cell above\n",
    "\n",
    "print(sentence)"
   ]
  },
  {
   "cell_type": "markdown",
   "metadata": {},
   "source": [
    "## strip() function"
   ]
  },
  {
   "cell_type": "code",
   "execution_count": null,
   "metadata": {},
   "outputs": [],
   "source": [
    "# the function strip() removes unwanted characters (spaces usually) \n",
    "# at the beginning and ending of a string\n",
    "# by defoult the strip is about removing the spaces\n",
    "stri = \"0000000@@this is a polluted string example@@0000000\"\n",
    "clean = stri.strip('0').strip('@') # or can be written as print( stri. strip('0').strip('@'))\n",
    "print(clean)\n"
   ]
  },
  {
   "cell_type": "markdown",
   "metadata": {},
   "source": [
    "## replace(old_word,new_word) function"
   ]
  },
  {
   "cell_type": "code",
   "execution_count": null,
   "metadata": {},
   "outputs": [],
   "source": [
    "# and now I present you the function replace\n",
    "# normally is used to replace somthing with nothing\n",
    "print( stri. strip('0').strip('@').replace( 'polluted' , 'cleaned' )) # replacing poluted by cleaned"
   ]
  },
  {
   "cell_type": "markdown",
   "metadata": {},
   "source": [
    "# for in statement\n",
    "### Looping through a list "
   ]
  },
  {
   "cell_type": "code",
   "execution_count": null,
   "metadata": {},
   "outputs": [],
   "source": [
    "bicycles = ['mountain', 'road', 'race', 'penny-farthing']\n",
    "\n",
    "#for in:  statement - in has a very strong meaning\n",
    "# says to go through the elements in the list and do something in that order\n",
    "    \n",
    "for element in bicycles: # you can try and change diffenent lists - bicycles, parts, element, sentence\n",
    "    print(element) # any indentation means/defines that any code here is run at each loop\n",
    "    #print('Python')\n",
    "    \n",
    "print('End')    "
   ]
  },
  {
   "cell_type": "markdown",
   "metadata": {},
   "source": [
    "## range () function\n",
    "    "
   ]
  },
  {
   "cell_type": "code",
   "execution_count": null,
   "metadata": {},
   "outputs": [],
   "source": [
    "# loop above equivalent to \n",
    "\n",
    "for i in range(0,4): #for i = 0 to 4 do in C++\n",
    "    print(bicycles[i])"
   ]
  },
  {
   "cell_type": "code",
   "execution_count": null,
   "metadata": {},
   "outputs": [],
   "source": [
    "# range function tester"
   ]
  },
  {
   "cell_type": "code",
   "execution_count": null,
   "metadata": {},
   "outputs": [],
   "source": [
    "for number in range(8): # one only attribute = range(0,8)\n",
    "    print(number)"
   ]
  },
  {
   "cell_type": "code",
   "execution_count": null,
   "metadata": {},
   "outputs": [],
   "source": [
    "for number in range(2,8): # first is start , second the one before \n",
    "    print(number)"
   ]
  },
  {
   "cell_type": "code",
   "execution_count": null,
   "metadata": {},
   "outputs": [],
   "source": [
    "for number in range(2,8,2): # first is start , second the one before the last # 3rd the step\n",
    "    print(number)"
   ]
  },
  {
   "cell_type": "markdown",
   "metadata": {},
   "source": [
    "## Adding items to a list"
   ]
  },
  {
   "cell_type": "code",
   "execution_count": null,
   "metadata": {},
   "outputs": [],
   "source": [
    "# add another string\n",
    "bicycles.append('peugeot') # careful this can be very dangerously as every time you run it, it will keep on adding\n",
    "print(bicycles)\n",
    "# equilent to \n",
    "# bicycle = bicycle + ['peugeot']"
   ]
  },
  {
   "cell_type": "code",
   "execution_count": null,
   "metadata": {},
   "outputs": [],
   "source": [
    "# aside: insert\n",
    "bicycles.insert(2,'BMX')\n",
    "print(bicycles)"
   ]
  },
  {
   "cell_type": "code",
   "execution_count": null,
   "metadata": {},
   "outputs": [],
   "source": [
    "# add a number!\n",
    "bicycles.append(22)\n",
    "print(bicycles)"
   ]
  },
  {
   "cell_type": "code",
   "execution_count": null,
   "metadata": {},
   "outputs": [],
   "source": [
    "bicycles.remove('BMX') # removes the first instance of that attribute\n",
    "print(bicycles)"
   ]
  },
  {
   "cell_type": "code",
   "execution_count": null,
   "metadata": {},
   "outputs": [],
   "source": [
    "bicycles.pop() # removes the last instance of that attribute\n",
    "print(bicycles)"
   ]
  },
  {
   "cell_type": "code",
   "execution_count": null,
   "metadata": {},
   "outputs": [],
   "source": [
    "# add a list!!\n",
    "bicycles.append(['derailleur','shimano']) \n",
    "print(bicycles)\n",
    "\n",
    "#YOU CAN ADD ANYTHING!!!"
   ]
  },
  {
   "cell_type": "code",
   "execution_count": null,
   "metadata": {},
   "outputs": [],
   "source": [
    "# Code for accessing the second item in the list inside the list\n",
    "print(bicycles[-1][-1])"
   ]
  },
  {
   "cell_type": "markdown",
   "metadata": {},
   "source": [
    "## Making numerical lists"
   ]
  },
  {
   "cell_type": "code",
   "execution_count": null,
   "metadata": {},
   "outputs": [],
   "source": [
    "# initialisation is very important, start the list before\n",
    "cubes = [] # creating a list\n",
    "\n",
    "for number in range(1, 7): \n",
    "    cubes.append(number**3) \n",
    "print(cubes) # printing after everything is over\n",
    "\n",
    "# ** operator is power"
   ]
  },
  {
   "cell_type": "code",
   "execution_count": null,
   "metadata": {},
   "outputs": [],
   "source": [
    "# write code to calculate the average of numbers from 5 to 15\n",
    "# the average is the sum divided by the number of elements\n",
    "\n",
    "# list = [5,6..15]\n",
    "# hint range\n",
    "# calculate the sum\n",
    "# element1 + element2 .....element15\n",
    "# calculate the sum\n",
    "# hint len()\n",
    "\n",
    "series = [5,6,7,8,9,10,11,12,13,14,15] # range[6,7...15]\n",
    "Sum = 0\n",
    "for number in series:\n",
    "    Sum = Sum + number # like in a calculator\n",
    "    # count = count + 1 -> this can also be done\n",
    "count = len(series)\n",
    "average = Sum / count\n",
    "print(average)\n",
    "                   "
   ]
  },
  {
   "cell_type": "code",
   "execution_count": null,
   "metadata": {},
   "outputs": [],
   "source": [
    "# Same as above done differently\n",
    "# range[6,7...15]\n",
    "# innitialization\n",
    "Sum = 0\n",
    "count = 0\n",
    "for number in range(5,16):\n",
    "    Sum = Sum + number # like in a calculator\n",
    "    count = count + 1\n",
    "    \n",
    "average = Sum / count\n",
    "print(average)"
   ]
  },
  {
   "cell_type": "markdown",
   "metadata": {},
   "source": [
    "## len() function"
   ]
  },
  {
   "cell_type": "code",
   "execution_count": null,
   "metadata": {},
   "outputs": [],
   "source": [
    "# the amazing Len function - aka the length of everything\n",
    "#len()    \n",
    "   \n",
    "l = len (range(5,16))\n",
    "print(l)\n",
    "\n",
    "print( len (bicycles))\n",
    "    "
   ]
  },
  {
   "cell_type": "markdown",
   "metadata": {},
   "source": [
    "# List comprehensions : Advanced\n"
   ]
  },
  {
   "cell_type": "code",
   "execution_count": null,
   "metadata": {},
   "outputs": [],
   "source": [
    "cubes = [x**3 for x in range(1, 7)] \n",
    "print(cubes)\n",
    "# equivalent to the next cell"
   ]
  },
  {
   "cell_type": "code",
   "execution_count": null,
   "metadata": {},
   "outputs": [],
   "source": [
    "cubes = [] \n",
    "for x in range(1, 7): \n",
    "    cubes.append(x**3) \n",
    "print(cubes) #see the defference if we change the position of print "
   ]
  },
  {
   "cell_type": "code",
   "execution_count": null,
   "metadata": {},
   "outputs": [],
   "source": [
    "cubes = [] \n",
    "for x in range(1, 7): \n",
    "    cubes.append(x**3) \n",
    "    print(cubes)"
   ]
  },
  {
   "cell_type": "markdown",
   "metadata": {},
   "source": [
    "## List comprehension exercise \n",
    "\n",
    "Write one line of Python that takes this list and makes a new list that has only the even elements of this list in it."
   ]
  },
  {
   "cell_type": "code",
   "execution_count": null,
   "metadata": {},
   "outputs": [],
   "source": [
    "list = [1, 4, 9, 16, 25, 36, 49, 64, 81, 100]"
   ]
  },
  {
   "cell_type": "markdown",
   "metadata": {},
   "source": [
    "## Slicing a list "
   ]
  },
  {
   "cell_type": "code",
   "execution_count": null,
   "metadata": {},
   "outputs": [],
   "source": [
    "finishers = ['Sue','Elliot', 'Kumiko','Damien'] # : colen acts as a slicer -> like everything after or before the number\n",
    "first_two = finishers[:2] # all/everything up to 2 but not 2\n",
    "print(first_two)"
   ]
  },
  {
   "cell_type": "code",
   "execution_count": null,
   "metadata": {},
   "outputs": [],
   "source": [
    "last_two = finishers[2:] # everything from 2 (included) up to end\n",
    "print(last_two)"
   ]
  },
  {
   "cell_type": "code",
   "execution_count": null,
   "metadata": {},
   "outputs": [],
   "source": [
    "f = finishers[:2] + finishers[2:]\n",
    "print(f)"
   ]
  },
  {
   "cell_type": "code",
   "execution_count": null,
   "metadata": {},
   "outputs": [],
   "source": [
    "last_two = finishers[-2:]\n",
    "print(last_two)"
   ]
  },
  {
   "cell_type": "markdown",
   "metadata": {},
   "source": [
    "## index() function\n",
    "index function returns the first occurence in the list"
   ]
  },
  {
   "cell_type": "code",
   "execution_count": null,
   "metadata": {},
   "outputs": [],
   "source": [
    "# want a table with the position next to the element\n",
    "# like vlookup it looks for the first instance/position in the list\n",
    "finishers = ['Sue','Elliot', 'Kumiko','Damien','Elliot'] \n",
    "print('Index | Finisher')\n",
    "for f in finishers:   # f is just s short for something\n",
    "    print(finishers.index(f), ' | ',f)\n",
    "# index function returns the first occurence in the list"
   ]
  },
  {
   "cell_type": "code",
   "execution_count": null,
   "metadata": {},
   "outputs": [],
   "source": [
    "finishers = ['Sue','Elliot', 'Kumiko','Damien','Elliot'] \n",
    "L =len(finishers)\n",
    "print('Index | Finisher')\n",
    "for number in range(0,L):\n",
    "    print(number  , ' | ' ,finishers[number])\n",
    "    "
   ]
  },
  {
   "cell_type": "markdown",
   "metadata": {},
   "source": [
    "Copying a list"
   ]
  },
  {
   "cell_type": "code",
   "execution_count": null,
   "metadata": {},
   "outputs": [],
   "source": [
    "copy_of_bicycles = bicycles[:] # everything to left and right\n",
    "print(copy_of_bicycles)"
   ]
  },
  {
   "cell_type": "markdown",
   "metadata": {},
   "source": [
    "### Tuples\n",
    "\n",
    "Tuples are similar to lists, but the items in a tuple can't be modified. Fixed in lengths"
   ]
  },
  {
   "cell_type": "markdown",
   "metadata": {},
   "source": [
    "Making a tuple "
   ]
  },
  {
   "cell_type": "code",
   "execution_count": null,
   "metadata": {},
   "outputs": [],
   "source": [
    "# tuple of numbers\n",
    "dimensions = (1920, 1080)\n",
    "\n",
    "# tuples of tuples\n",
    "pushbikes= ('mountain', 'road', 'race', 'penny-farthing')\n",
    "\n",
    "#tuple of different types of variables\n",
    "hold_all = (35, 'Data Science', [1,2,3,4,5], (1,7))\n",
    "\n",
    "print(hold_all)\n",
    "\n",
    "# lists can be modified \n",
    "bicycles[0]='raleigh'\n",
    "print(bicycles)"
   ]
  },
  {
   "cell_type": "code",
   "execution_count": null,
   "metadata": {},
   "outputs": [],
   "source": [
    "#hold_all[0]= 34\n",
    "\n",
    "print(hold_all[0])"
   ]
  },
  {
   "cell_type": "markdown",
   "metadata": {},
   "source": [
    "### If statements are used to test for particular conditions and respond appropriately.\n",
    "\n",
    "# if (condition) : action"
   ]
  },
  {
   "cell_type": "code",
   "execution_count": null,
   "metadata": {},
   "outputs": [],
   "source": [
    "# If statement\n",
    "age = 25\n",
    "commonwealth = True\n",
    "if age >= 18: \n",
    "    print(\"You may be able to vote\")"
   ]
  },
  {
   "cell_type": "code",
   "execution_count": null,
   "metadata": {},
   "outputs": [],
   "source": [
    "if (age >= 18 and commonwealth == True): # if and - 2 statements\n",
    "    print(\"You can vote!\") \n",
    " "
   ]
  },
  {
   "cell_type": "code",
   "execution_count": null,
   "metadata": {},
   "outputs": [],
   "source": [
    "# If-elif-else statements \n",
    "if age < 4: price = 0 # : colon tells when the condition stopes\n",
    "elif age < 18: price = 10 # remember the : colon signs\n",
    "elif age > 65: price = 12\n",
    "else: price = 15\n",
    "\n",
    "print(price)"
   ]
  },
  {
   "cell_type": "markdown",
   "metadata": {},
   "source": [
    "Conditions\n",
    "\n",
    "tests equals\n",
    "x == 42 \n",
    "\n",
    "not equal \n",
    "x != 42  \n",
    "\n",
    "greater than \n",
    "x > 42 \n",
    "\n",
    "greater than or equal to\n",
    "x >= 42 \n",
    "\n",
    "less than\n",
    "x < 42 \n",
    "\n",
    "less than or equal to\n",
    "x <= 42"
   ]
  },
  {
   "cell_type": "code",
   "execution_count": null,
   "metadata": {},
   "outputs": [],
   "source": [
    "x = 57 # i assign 57 to x\n",
    "# (x<42) is  a test with a value of True of False\n",
    "print('is x smaller than 42?', x < 42)\n",
    "\n",
    "X =(x > 42 )\n",
    "print('is x bigger than 42?', X)\n",
    "\n",
    "if X : # boolian condition\n",
    "    print(X)"
   ]
  },
  {
   "cell_type": "code",
   "execution_count": null,
   "metadata": {},
   "outputs": [],
   "source": [
    "test = 50\n",
    "x = (test!= 55)\n",
    "\n",
    "if x :\n",
    "    print(x)"
   ]
  },
  {
   "cell_type": "markdown",
   "metadata": {},
   "source": [
    "## Conditional test with lists \n",
    "## IN\n",
    "## NOT IN"
   ]
  },
  {
   "cell_type": "code",
   "execution_count": null,
   "metadata": {},
   "outputs": [],
   "source": [
    "print('downhill' in bicycles)"
   ]
  },
  {
   "cell_type": "code",
   "execution_count": null,
   "metadata": {},
   "outputs": [],
   "source": [
    "print('downhill' not in bicycles)"
   ]
  },
  {
   "cell_type": "markdown",
   "metadata": {},
   "source": [
    "Assigning boolean values"
   ]
  },
  {
   "cell_type": "code",
   "execution_count": null,
   "metadata": {},
   "outputs": [],
   "source": [
    "game_active = True \n",
    "can_edit = False\n",
    "# ignore the result incomplete code"
   ]
  },
  {
   "cell_type": "markdown",
   "metadata": {},
   "source": [
    "# Exercise\n",
    "\n",
    "Take a list of numbers\n",
    "and write a program that prints out all the elements of the list that are less than 5."
   ]
  },
  {
   "cell_type": "code",
   "execution_count": null,
   "metadata": {},
   "outputs": [],
   "source": [
    "# set list\n",
    "\n",
    "List = [1, 1, 2, 3, 5, 8, 13, 21, 34, 55, 89]\n",
    "\n",
    "# your code below\n",
    "L = len(List)\n",
    "for number in range(0,L):\n",
    "    if List[number] < 5: print(List[number])"
   ]
  },
  {
   "cell_type": "code",
   "execution_count": null,
   "metadata": {},
   "outputs": [],
   "source": [
    "# same as above done defferently\n",
    "for L in List:\n",
    "    if L < 5: print(L)"
   ]
  },
  {
   "cell_type": "code",
   "execution_count": null,
   "metadata": {},
   "outputs": [],
   "source": [
    "# list comprehesion, sae as above but better code\n",
    "Result = [number for number in List if number < 5]\n",
    "print(Result)\n",
    "print(len(Result))"
   ]
  },
  {
   "cell_type": "code",
   "execution_count": null,
   "metadata": {},
   "outputs": [],
   "source": [
    "# initialization\n",
    "count = 0\n",
    "\n",
    "for L in List:\n",
    "    if L < 5: print(L)\n",
    "    count = count + 1\n",
    "print('number under 5 : ',count)"
   ]
  },
  {
   "cell_type": "code",
   "execution_count": null,
   "metadata": {},
   "outputs": [],
   "source": [
    "# extra: create a list of random number using the\n",
    "# random generator below\n",
    "\n",
    "import random\n",
    "for x in range(10):\n",
    "  print(random.randint(1,101))"
   ]
  },
  {
   "cell_type": "markdown",
   "metadata": {},
   "source": [
    "# Dictionaries \n",
    "they store connections between pieces of information\n",
    "\n",
    "Each item in a dictionary is a key-value pair"
   ]
  },
  {
   "cell_type": "markdown",
   "metadata": {},
   "source": [
    "Simple dictionaries {}"
   ]
  },
  {
   "cell_type": "code",
   "execution_count": null,
   "metadata": {},
   "outputs": [],
   "source": [
    "word_frequency = {'Data' : 14, 'Science': 10, 'Machine': 5, 'Learning' : 8}\n",
    "# pairs are seperated be -> , commas and each pair has one unique key and one value seperated by -> : colon sign\n",
    "\n",
    "real_dictionary = {'a': 'string that defines a', 'abc': 'definition of abc'}\n",
    "\n",
    "\n",
    "# with different value types\n",
    "car = {'make' : 'Mazda', 'model' : '3 sport', 'engine_size_cc': 2259,\n",
    "       'colour': 'laser blue', 'dimensions_mm' : {'w':1795 , 'l':4465 , 'h':1465}}\n",
    "# Run this code first for the rest to work"
   ]
  },
  {
   "cell_type": "markdown",
   "metadata": {},
   "source": [
    "Accessing a value"
   ]
  },
  {
   "cell_type": "code",
   "execution_count": null,
   "metadata": {},
   "outputs": [],
   "source": [
    "print(\"The car colour is \" + car['colour']) # dict[key] accesses the value in key, value pair"
   ]
  },
  {
   "cell_type": "code",
   "execution_count": null,
   "metadata": {},
   "outputs": [],
   "source": [
    "#write code to retrieve the dictionary inside the dictionary\n",
    "\n",
    "dictionary = car['dimensions_mm']\n",
    "print(dictionary)\n"
   ]
  },
  {
   "cell_type": "code",
   "execution_count": null,
   "metadata": {},
   "outputs": [],
   "source": [
    "# retrieve the value in thedictionary inside the dictionary\n",
    "\n",
    "print('car length is', car['dimensions_mm']['l'], 'cm')"
   ]
  },
  {
   "cell_type": "code",
   "execution_count": null,
   "metadata": {},
   "outputs": [],
   "source": [
    "# Adding a new key-value pair\n",
    "car = {'make' : 'Mazda', 'model' : '3 sport', 'engine_size_cc': 2259,\n",
    "       'colour': 'laser blue', 'dimensions_mm' : {'w':1795 , 'l':4465 , 'h':1465}}\n"
   ]
  },
  {
   "cell_type": "code",
   "execution_count": null,
   "metadata": {},
   "outputs": [],
   "source": [
    "car['transmission_type'] = 'automatic'\n",
    "print(car)"
   ]
  },
  {
   "cell_type": "markdown",
   "metadata": {},
   "source": [
    "Values, Keys and Items"
   ]
  },
  {
   "cell_type": "code",
   "execution_count": null,
   "metadata": {},
   "outputs": [],
   "source": [
    "print('list of tuples in the dictionary','\\n',car.items(),'\\n')"
   ]
  },
  {
   "cell_type": "code",
   "execution_count": null,
   "metadata": {},
   "outputs": [],
   "source": [
    "print('list of keys','\\n',car.keys(),'\\n')\n",
    "# car -is an object and keys() is the function as it has () at the end, '\\n' means in new line\n",
    "# car.keys() function extract all the name of the keys "
   ]
  },
  {
   "cell_type": "code",
   "execution_count": null,
   "metadata": {},
   "outputs": [],
   "source": [
    "print('list of values','\\n',car.values(),'\\n')\n",
    "# car.keys() function retract all the values "
   ]
  },
  {
   "cell_type": "markdown",
   "metadata": {},
   "source": [
    "Looping through all keys"
   ]
  },
  {
   "cell_type": "code",
   "execution_count": null,
   "metadata": {},
   "outputs": [],
   "source": [
    "# for keys in dictionary:\n",
    "\n",
    "for k in car.keys(): \n",
    "    print(k + ' is a car characteristic') "
   ]
  },
  {
   "cell_type": "markdown",
   "metadata": {},
   "source": [
    "Looping through all the values"
   ]
  },
  {
   "cell_type": "code",
   "execution_count": null,
   "metadata": {},
   "outputs": [],
   "source": [
    "#write code to loop through all the values\n",
    "\n",
    "for v in car.values(): \n",
    "    print(v , ' is a car characteristic')\n"
   ]
  },
  {
   "cell_type": "markdown",
   "metadata": {},
   "source": [
    "Looping through all key-value pairs"
   ]
  },
  {
   "cell_type": "code",
   "execution_count": null,
   "metadata": {},
   "outputs": [],
   "source": [
    "# python difference or characteristic\n",
    "# print(str(car['dimensions_mm']['l']))\n",
    "\n",
    "for k,v in car.items():\n",
    "    print(k ,' is ' , v)\n",
    "    # print(k + ' is '+ str(v)) also can be done this way by using + and str for string"
   ]
  },
  {
   "cell_type": "code",
   "execution_count": null,
   "metadata": {},
   "outputs": [],
   "source": [
    "Tuples_List = [(1,2,3) , (4,5,6) , (7,8,9)]\n",
    "# in for loop statement\n",
    "\n",
    "for a , b , c in Tuples_List:\n",
    "    print(a*b/c)"
   ]
  },
  {
   "cell_type": "code",
   "execution_count": null,
   "metadata": {},
   "outputs": [],
   "source": [
    "#Write a Python script to concatenate following dictionaries to create a new one. Go to the editor\n",
    "\n",
    "#Sample Dictionary : \n",
    "dic1={1:'Royal Dutch Shell', 2:'BP'} \n",
    "dic2={3:'Total', 4:'Volkswagen'} \n",
    "dic3={5:'Glencore Xstrata',6:'Gazprom'}\n",
    "\n",
    "# user code\n",
    "# initialization\n",
    "final_dic = dic1\n",
    "\n",
    "for k,v in dic2.items():\n",
    "    final_dic[k] = v\n",
    "    \n",
    "for k,v in dic3.items():\n",
    "    final_dic[k] = v  \n",
    "    \n",
    "print(final_dic)"
   ]
  },
  {
   "cell_type": "code",
   "execution_count": null,
   "metadata": {},
   "outputs": [],
   "source": [
    "# Write a Python script to check if a given key already exists in a dictionary.\n",
    "\n",
    "### your code ####\n",
    "\n",
    "key = 5\n",
    "key_in_dictionary = False\n",
    "\n",
    "for k in final_dic.keys():\n",
    "    if k == key : key_in_dictionary = True \n",
    "    \n",
    "if key_in_dictionary : print (key, 'is in the dictionary')\n",
    "else: print (key, 'is not in the dictionary')\n"
   ]
  },
  {
   "cell_type": "code",
   "execution_count": null,
   "metadata": {},
   "outputs": [],
   "source": [
    "# better way of this code\n",
    "key_in_dictionary = key in final_dic.keys()\n",
    "\n",
    "if key_in_dictionary : print (key, 'is in the dictionary')\n",
    "else: print (key, 'is not in the dictionary')\n"
   ]
  },
  {
   "cell_type": "markdown",
   "metadata": {},
   "source": [
    "### Programs can prompt the user for input. \n",
    "All input is stored as a string. \n",
    "\n",
    "Prompting for a value"
   ]
  },
  {
   "cell_type": "code",
   "execution_count": null,
   "metadata": {},
   "outputs": [],
   "source": [
    "# prompting for a value\n",
    "name = input(\"What's your name? \") # asking foe value and then putting into\n",
    "print(\"Hello, \" + name + \"!\") # returns a string value"
   ]
  },
  {
   "cell_type": "code",
   "execution_count": null,
   "metadata": {},
   "outputs": [],
   "source": [
    "# prompting for a number\n",
    "\n",
    "age = input(\"How old are you? \") #return a string\n",
    "age = int(age) #converts into a value as integer(round numbers)\n",
    "print(age*2)\n"
   ]
  },
  {
   "cell_type": "code",
   "execution_count": null,
   "metadata": {},
   "outputs": [],
   "source": [
    "pi = input(\"What's the value of pi? \") \n",
    "print(pi)\n",
    "pi = float(pi) # float is a decimal value number"
   ]
  },
  {
   "cell_type": "markdown",
   "metadata": {},
   "source": [
    "# Exercise\n",
    "Create a program that asks the user to enter their name and their age. Print out a message addressed to them that tells them the year that they will turn 100 years old."
   ]
  },
  {
   "cell_type": "code",
   "execution_count": null,
   "metadata": {},
   "outputs": [],
   "source": [
    "# initialization\n",
    "current_year = 2018\n",
    "\n",
    "name = input(\"What's your name? \")\n",
    "age = input(\"How old are you? \")\n",
    "age = int(age) #convert\n",
    "wait = 100 - age\n",
    "year = current_year + wait\n",
    "\n",
    "print(\"Hello,\", name, 'you will turn 100 year old in', year)\n",
    "\n",
    "#print(age*2)\n",
    "#print(\"Hello, \" + name + \" you are \" + age) "
   ]
  },
  {
   "cell_type": "code",
   "execution_count": null,
   "metadata": {},
   "outputs": [],
   "source": [
    "import random\n",
    "\n",
    "for x in range(10):\n",
    "  print(random.randint(1,101))"
   ]
  },
  {
   "cell_type": "code",
   "execution_count": 4,
   "metadata": {},
   "outputs": [
    {
     "name": "stdout",
     "output_type": "stream",
     "text": [
      "Enter the name of the month: February\n",
      "Number of days:  28\n",
      "Which year? 2016\n",
      "Actually this year has 29 days\n"
     ]
    }
   ],
   "source": [
    "# Write a Python program that prompts for a month name and converts it to a number of days.\n",
    "#List of months: January, February, March, April, May, June, July, August\n",
    "#, September, October, November, December                                \n",
    "\n",
    "# Example\n",
    "#Input the name of Month: February                                       \n",
    "#No. of days: 28/29 days\n",
    "months = {'January': 31, 'February': 28, 'March' : 31, 'april' : 30, 'May' : 31, 'June' : 30,\n",
    "          'July' : 31, 'August': 31, 'September' : 30, 'October' : 31, 'Novevember' : 30, 'December' : 31}\n",
    "'''dictionary = months\n",
    "print(dictionary)'''\n",
    "\n",
    "Month = input('Enter the name of the month: ') # promting for the key\n",
    "#Days = input('Number of days: ')\n",
    "print('Number of days: ', months[Month]) # printing the value\n",
    "\n",
    "# advance: what about its a leap lear?\n",
    "Year = input('Which year? ')\n",
    "Year = int(Year)\n",
    "\n",
    "# check if year divisible by 4\n",
    "if (Year//4 == Year / 4): # explained in the bottom cell\n",
    "    if Month == 'February':\n",
    "        print('Actually this year has 29 days')"
   ]
  },
  {
   "cell_type": "code",
   "execution_count": 1,
   "metadata": {},
   "outputs": [
    {
     "name": "stdout",
     "output_type": "stream",
     "text": [
      "502\n",
      "502.75\n",
      "3\n"
     ]
    }
   ],
   "source": [
    "# the way and reason for double //\n",
    "y = 2011//4 # round division\n",
    "z = 2011/4 # standard division\n",
    "w = 2011 % 4 # modulo or remainder\n",
    "print(y)\n",
    "print(z)\n",
    "print(w)"
   ]
  }
 ],
 "metadata": {
  "kernelspec": {
   "display_name": "Python 3",
   "language": "python",
   "name": "python3"
  },
  "language_info": {
   "codemirror_mode": {
    "name": "ipython",
    "version": 3
   },
   "file_extension": ".py",
   "mimetype": "text/x-python",
   "name": "python",
   "nbconvert_exporter": "python",
   "pygments_lexer": "ipython3",
   "version": "3.7.0"
  }
 },
 "nbformat": 4,
 "nbformat_minor": 2
}
